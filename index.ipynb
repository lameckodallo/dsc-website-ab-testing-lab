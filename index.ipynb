{
 "cells": [
  {
   "attachments": {},
   "cell_type": "markdown",
   "metadata": {},
   "source": [
    "# Website A/B Testing - Lab\n",
    "\n",
    "## Introduction\n",
    "\n",
    "In this lab, you'll get another chance to practice your skills at conducting a full A/B test analysis. It will also be a chance to practice your data exploration and processing skills! The scenario you'll be investigating is data collected from the homepage of a music app page for audacity.\n",
    "\n",
    "## Objectives\n",
    "\n",
    "You will be able to:\n",
    "* Analyze the data from a website A/B test to draw relevant conclusions\n",
    "* Explore and analyze web action data"
   ]
  },
  {
   "attachments": {},
   "cell_type": "markdown",
   "metadata": {},
   "source": [
    "## Exploratory Analysis\n",
    "\n",
    "Start by loading in the dataset stored in the file 'homepage_actions.csv'. Then conduct an exploratory analysis to get familiar with the data."
   ]
  },
  {
   "attachments": {},
   "cell_type": "markdown",
   "metadata": {},
   "source": [
    "> Hints:\n",
    "    * Start investigating the id column:\n",
    "        * How many viewers also clicked?\n",
    "        * Are there any anomalies with the data; did anyone click who didn't view?\n",
    "        * Is there any overlap between the control and experiment groups? \n",
    "            * If so, how do you plan to account for this in your experimental design?"
   ]
  },
  {
   "cell_type": "code",
   "execution_count": 7,
   "metadata": {},
   "outputs": [
    {
     "name": "stdout",
     "output_type": "stream",
     "text": [
      "{'viewers_also_clicked': 1860}\n",
      "{'clicked_without_view': 0}\n",
      "{'overlap_user_count': 0}\n"
     ]
    }
   ],
   "source": [
    "#Your code here\n",
    "import pandas as pd\n",
    "import numpy as np\n",
    "from scipy import stats\n",
    "\n",
    "df = pd.read_csv('homepage_actions.csv')\n",
    "\n",
    "user_actions = (\n",
    "    df.groupby([\"id\", \"group\"])[\"action\"]\n",
    "      .agg(lambda s: set(s))\n",
    "      .reset_index(name=\"actions\")\n",
    ")\n",
    "# 1) How many viewers also clicked?\n",
    "viewed = user_actions[\"actions\"].apply(lambda s: \"view\" in s)\n",
    "clicked = user_actions[\"actions\"].apply(lambda s: \"click\" in s)\n",
    "viewers_also_clicked = int((viewed & clicked).sum())\n",
    "print({\"viewers_also_clicked\": viewers_also_clicked})\n",
    "\n",
    "# 2) Anomalies: did anyone click who didn't view?\n",
    "clicked_without_view = int((clicked & ~viewed).sum())\n",
    "print({\"clicked_without_view\": clicked_without_view})\n",
    "\n",
    "# 3) Overlap between control and experiment groups (same id in >1 group)\n",
    "overlap_mask = df.groupby(\"id\")[\"group\"].nunique() > 1\n",
    "overlap_ids = overlap_mask.index[overlap_mask]\n",
    "overlap_user_count = int(len(overlap_ids))\n",
    "print({\"overlap_user_count\": overlap_user_count})\n"
   ]
  },
  {
   "attachments": {},
   "cell_type": "markdown",
   "metadata": {},
   "source": [
    "## Conduct a Statistical Test\n",
    "\n",
    "Conduct a statistical test to determine whether the experimental homepage was more effective than that of the control group."
   ]
  },
  {
   "cell_type": "code",
   "execution_count": 12,
   "metadata": {},
   "outputs": [
    {
     "name": "stdout",
     "output_type": "stream",
     "text": [
      "{'exp_clicks': 928, 'exp_viewers': 2996, 'exp_ctr': 0.309746, 'ctrl_clicks': 932, 'ctrl_viewers': 3332, 'ctrl_ctr': 0.279712, 'z_stat': 2.6186, 'pval_one_sided': 0.004415037788297906}\n"
     ]
    }
   ],
   "source": [
    "from math import sqrt, erfc\n",
    "\n",
    "try:\n",
    "    clean_user\n",
    "except NameError:\n",
    "    # Build user_actions if missing\n",
    "    try:\n",
    "        user_actions\n",
    "    except NameError:\n",
    "        user_actions = (\n",
    "            df.groupby([\"id\", \"group\"])[\"action\"]\n",
    "              .agg(lambda s: set(s))\n",
    "              .reset_index(name=\"actions\")\n",
    "        )\n",
    "    # Exclude users appearing in both groups\n",
    "    overlap_mask = df.groupby(\"id\")[\"group\"].nunique() > 1\n",
    "    overlap_ids = overlap_mask.index[overlap_mask]\n",
    "    clean_user = user_actions[~user_actions[\"id\"].isin(overlap_ids)].copy()\n",
    "    # Restrict to users who viewed\n",
    "    clean_user = clean_user[clean_user[\"actions\"].apply(lambda s: \"view\" in s)].copy()\n",
    "\n",
    "# --- Statistical test: H0 p_exp = p_ctrl vs H1 p_exp > p_ctrl ---\n",
    "clean_user[\"clicked_binary\"] = clean_user[\"actions\"].apply(lambda s: \"click\" in s).astype(int)\n",
    "\n",
    "ctrl = clean_user[clean_user[\"group\"] == \"control\"][\"clicked_binary\"]\n",
    "exp  = clean_user[clean_user[\"group\"] == \"experiment\"][\"clicked_binary\"]\n",
    "\n",
    "x1, n1 = int(exp.sum()), int(exp.count())        # experiment\n",
    "x2, n2 = int(ctrl.sum()), int(ctrl.count())      # control\n",
    "p1, p2 = (x1 / n1), (x2 / n2)\n",
    "\n",
    "p_pool = (x1 + x2) / (n1 + n2)\n",
    "se = sqrt(p_pool * (1 - p_pool) * (1/n1 + 1/n2))\n",
    "z_stat = (p1 - p2) / se\n",
    "\n",
    "# One-sided p-value (experiment > control): p = 0.5 * erfc(z / sqrt(2))\n",
    "pval_one_sided = 0.5 * erfc(z_stat / sqrt(2))\n",
    "\n",
    "print({\n",
    "    \"exp_clicks\": x1, \"exp_viewers\": n1, \"exp_ctr\": round(p1, 6),\n",
    "    \"ctrl_clicks\": x2, \"ctrl_viewers\": n2, \"ctrl_ctr\": round(p2, 6),\n",
    "    \"z_stat\": round(z_stat, 4),\n",
    "    \"pval_one_sided\": float(pval_one_sided)\n",
    "})"
   ]
  },
  {
   "attachments": {},
   "cell_type": "markdown",
   "metadata": {},
   "source": [
    "## Verifying Results\n",
    "\n",
    "One sensible formulation of the data to answer the hypothesis test above would be to create a binary variable representing each individual in the experiment and control group. This binary variable would represent whether or not that individual clicked on the homepage; 1 for they did and 0 if they did not. \n",
    "\n",
    "The variance for the number of successes in a sample of a binomial variable with n observations is given by:\n",
    "\n",
    "## $n\\bullet p (1-p)$\n",
    "\n",
    "Given this, perform 3 steps to verify the results of your statistical test:\n",
    "1. Calculate the expected number of clicks for the experiment group, if it had the same click-through rate as that of the control group. \n",
    "2. Calculate the number of standard deviations that the actual number of clicks was from this estimate. \n",
    "3. Finally, calculate a p-value using the normal distribution based on this z-score."
   ]
  },
  {
   "attachments": {},
   "cell_type": "markdown",
   "metadata": {},
   "source": [
    "### Step 1:\n",
    "Calculate the expected number of clicks for the experiment group, if it had the same click-through rate as that of the control group. "
   ]
  },
  {
   "cell_type": "code",
   "execution_count": null,
   "metadata": {},
   "outputs": [
    {
     "name": "stdout",
     "output_type": "stream",
     "text": [
      "{'control_ctr': 0.2797118847539016, 'exp_viewers_n': 2996, 'expected_clicks_exp_under_H0': 838.0168067226891}\n"
     ]
    }
   ],
   "source": [
    "#Your code here\n",
    "# Step 1: Expected clicks in the experiment group under H0 (same CTR as control)\n",
    "\n",
    "# Subsets among viewers (already filtered in clean_user)\n",
    "ctrl_view = clean_user[clean_user[\"group\"] == \"control\"]\n",
    "exp_view  = clean_user[clean_user[\"group\"] == \"experiment\"]\n",
    "\n",
    "# Control CTR (proportion clicked among viewers)\n",
    "p_ctrl = ctrl_view[\"actions\"].apply(lambda s: \"click\" in s).astype(int).mean()\n",
    "\n",
    "# Expected clicks in experiment if it had control CTR\n",
    "n_exp = len(exp_view)\n",
    "expected_clicks_exp = n_exp * p_ctrl\n",
    "\n",
    "print({\n",
    "    \"control_ctr\": float(p_ctrl),\n",
    "    \"exp_viewers_n\": int(n_exp),\n",
    "    \"expected_clicks_exp_under_H0\": float(expected_clicks_exp)\n",
    "})"
   ]
  },
  {
   "attachments": {},
   "cell_type": "markdown",
   "metadata": {},
   "source": [
    "### Step 2:\n",
    "Calculate the number of standard deviations that the actual number of clicks was from this estimate."
   ]
  },
  {
   "cell_type": "code",
   "execution_count": null,
   "metadata": {},
   "outputs": [
    {
     "name": "stdout",
     "output_type": "stream",
     "text": [
      "{'z_score': 3.6625360854823588}\n"
     ]
    }
   ],
   "source": [
    "#Your code here\n",
    "actual_clicks_exp = exp_view[\"actions\"].apply(lambda s: \"click\" in s).astype(int).sum()\n",
    "z_score = (actual_clicks_exp - expected_clicks_exp) / np.sqrt(n_exp * p_ctrl * (1 - p_ctrl))\n",
    "\n",
    "print({\"z_score\": float(z_score)})"
   ]
  },
  {
   "attachments": {},
   "cell_type": "markdown",
   "metadata": {},
   "source": [
    "### Step 3: \n",
    "Finally, calculate a p-value using the normal distribution based on this z-score."
   ]
  },
  {
   "cell_type": "code",
   "execution_count": null,
   "metadata": {},
   "outputs": [
    {
     "name": "stdout",
     "output_type": "stream",
     "text": [
      "{'p_value_one_sided': 0.00012486528006949715}\n"
     ]
    }
   ],
   "source": [
    "#Your code here\n",
    "p_value = 1 - stats.norm.cdf(z_score)\n",
    "\n",
    "print({\"p_value_one_sided\": float(p_value)})"
   ]
  },
  {
   "attachments": {},
   "cell_type": "markdown",
   "metadata": {},
   "source": [
    "### Analysis:\n",
    "\n",
    "Does this result roughly match that of the previous statistical test?\n",
    "\n",
    "> Comment: **Your analysis here**\n",
    "Yes — it matches within rounding (z ≈ 2.62; one-sided p ≈ 0.0044)."
   ]
  },
  {
   "attachments": {},
   "cell_type": "markdown",
   "metadata": {},
   "source": [
    "## Summary\n",
    "\n",
    "In this lab, you continued to get more practice designing and conducting AB tests. This required additional work preprocessing and formulating the initial problem in a suitable manner. Additionally, you also saw how to verify results, strengthening your knowledge of binomial variables, and reviewing initial statistical concepts of the central limit theorem, standard deviation, z-scores, and their accompanying p-values."
   ]
  }
 ],
 "metadata": {
  "kernelspec": {
   "display_name": "Python (learn-env)",
   "language": "python",
   "name": "learn-env"
  },
  "language_info": {
   "codemirror_mode": {
    "name": "ipython",
    "version": 3
   },
   "file_extension": ".py",
   "mimetype": "text/x-python",
   "name": "python",
   "nbconvert_exporter": "python",
   "pygments_lexer": "ipython3",
   "version": "3.8.5"
  }
 },
 "nbformat": 4,
 "nbformat_minor": 2
}
